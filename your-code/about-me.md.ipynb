{
 "cells": [
  {
   "cell_type": "code",
   "execution_count": null,
   "metadata": {},
   "outputs": [],
   "source": [
    "    # Who am I\n",
    "\n",
    "    * I'm from Mallorca, Spain\n",
    "    * I'm a consultant for a company, and I also own small business of socks\n",
    "    * My previous experience with technology is with WordPress. With data I only have experience with excell\n",
    "\n",
    "    # Why am I here\n",
    "\n",
    "    * I have always been interested in programing and the analysis of the data, but never had the oportunity to learn it deeply. \n",
    "    * I expect to learn the ability to analyse bigs sets of data and forecast the future. \n",
    "\n",
    "    # What will I do after the bootcamp?\n",
    "\n",
    "    * I'm not yet sure about what I will do next. Maybe I still do consulting freelance or maybe I would look for a job in a company.\n",
    "    * I'm would like to be able to analyse economic data or marketing data.\n",
    "    * I would like to be able to change the scope of the consulting I'm doing to one based in data analysis."
   ]
  }
 ],
 "metadata": {
  "kernelspec": {
   "display_name": "Python 3",
   "language": "python",
   "name": "python3"
  },
  "language_info": {
   "codemirror_mode": {
    "name": "ipython",
    "version": 3
   },
   "file_extension": ".py",
   "mimetype": "text/x-python",
   "name": "python",
   "nbconvert_exporter": "python",
   "pygments_lexer": "ipython3",
   "version": "3.7.3"
  }
 },
 "nbformat": 4,
 "nbformat_minor": 2
}
